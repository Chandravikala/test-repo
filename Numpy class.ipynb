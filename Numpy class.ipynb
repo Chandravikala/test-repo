{
 "cells": [
  {
   "cell_type": "code",
   "execution_count": null,
   "id": "7e54dd26",
   "metadata": {},
   "outputs": [],
   "source": [
    "\n",
    "# numpy documentation\n",
    "# https://numpy.org/doc/stable/index.html"
   ]
  },
  {
   "cell_type": "markdown",
   "metadata": {},
   "source": [
    "INSTALLATION AND IMPORT"
   ]
  },
  {
   "cell_type": "code",
   "execution_count": 3,
   "id": "02e9e395",
   "metadata": {},
   "outputs": [
    {
     "name": "stdout",
     "output_type": "stream",
     "text": [
      "Requirement already satisfied: numpy in c:\\users\\shaat\\anaconda3\\lib\\site-packages (1.24.3)\n",
      "Note: you may need to restart the kernel to use updated packages.\n"
     ]
    }
   ],
   "source": [
    "pip install numpy\n",
    "# importing numpy library\n",
    "import numpy as np"
   ]
  },
  {
   "cell_type": "markdown",
   "metadata": {},
   "source": [
    "Difference between list and array"
   ]
  },
  {
   "cell_type": "code",
   "execution_count": 9,
   "id": "e95a2f54",
   "metadata": {},
   "outputs": [
    {
     "name": "stdout",
     "output_type": "stream",
     "text": [
      "[1 2 3 4]\n",
      "<class 'numpy.ndarray'>\n"
     ]
    }
   ],
   "source": [
    "#CREATING AN ARRAY  \n",
    "\n",
    "x=np.array([1,2,3,4])\n",
    "print(x)                                                                                                                        \n",
    "    \n",
    "print(type(x))"
   ]
  },
  {
   "cell_type": "code",
   "execution_count": 12,
   "metadata": {},
   "outputs": [
    {
     "name": "stdout",
     "output_type": "stream",
     "text": [
      "[1, 2, 3, 4]\n",
      "<class 'list'>\n"
     ]
    }
   ],
   "source": [
    "#CREATING A LIST                            \n",
    "  \n",
    "Y=[1,2,3,4]             \n",
    "print(Y)    \n",
    "\n",
    "print(type(Y))           "
   ]
  },
  {
   "cell_type": "markdown",
   "metadata": {},
   "source": [
    "CREATING NumPy ARRAY"
   ]
  },
  {
   "cell_type": "code",
   "execution_count": 19,
   "id": "919ee031",
   "metadata": {},
   "outputs": [
    {
     "name": "stdout",
     "output_type": "stream",
     "text": [
      "[1 2 3 4]\n",
      "<class 'numpy.ndarray'>\n",
      "1\n"
     ]
    }
   ],
   "source": [
    "# CREATING ARRAYS FROM A LIST, COMMAND IS NP.ARRAY                                          \n",
    "l=[1,2,3,4]\n",
    "a=np.array(l)   \n",
    "print(a)   \n",
    "                                                                         \n",
    "#TO FIND OUT IF ITS ARRAY OR NOT?   \n",
    "#a       \n",
    "\n",
    "#ANOTHER WAY TO FIND THE TYPE OF DATA IS:\n",
    "print(type(a)) \n",
    "\n",
    "#another way without printing the out put:   \n",
    "type(a) \n",
    "\n",
    "#to check the dimension of array:   \n",
    "print(a.ndim)        "
   ]
  },
  {
   "cell_type": "markdown",
   "metadata": {},
   "source": [
    "CREATING DIFFERENT DIMENSIONS OF ARRAY and FIND ITS DIMENSION"
   ]
  },
  {
   "cell_type": "code",
   "execution_count": 14,
   "id": "e9a4781c",
   "metadata": {},
   "outputs": [
    {
     "name": "stdout",
     "output_type": "stream",
     "text": [
      "42\n",
      "0\n"
     ]
    }
   ],
   "source": [
    "# creating 0-D array\n",
    "arr = np.array(42)\n",
    "print(arr)                  \n",
    "\n",
    "#checking dimensions\n",
    "print(arr.ndim)"
   ]
  },
  {
   "cell_type": "code",
   "execution_count": 10,
   "id": "fbac0fbb",
   "metadata": {},
   "outputs": [
    {
     "name": "stdout",
     "output_type": "stream",
     "text": [
      "[1 2 3 4 5]\n"
     ]
    }
   ],
   "source": [
    "# creating 1-D array\n",
    "arr1 = np.array([1, 2, 3, 4, 5])\n",
    "print(arr1) \n",
    "\n",
    "    #checking dimensions\n",
    "print(arr1.ndim)"
   ]
  },
  {
   "cell_type": "code",
   "execution_count": 12,
   "id": "496eabc0",
   "metadata": {},
   "outputs": [
    {
     "name": "stdout",
     "output_type": "stream",
     "text": [
      "[[1 2 3]\n",
      " [4 5 6]]\n"
     ]
    }
   ],
   "source": [
    "#creating 2-D array\n",
    "arr2 = np.array([[1, 2, 3], [4, 5, 6]])\n",
    "print(arr2)                 \n",
    "\n",
    "#checking dimensions\n",
    "print(arr2.ndim)"
   ]
  },
  {
   "cell_type": "code",
   "execution_count": 17,
   "id": "0a1c026d",
   "metadata": {},
   "outputs": [
    {
     "name": "stdout",
     "output_type": "stream",
     "text": [
      "[[[1 2 3]\n",
      "  [4 5 6]]\n",
      "\n",
      " [[1 2 3]\n",
      "  [4 5 6]]]\n",
      "3\n"
     ]
    }
   ],
   "source": [
    "#creating 3-D array\n",
    "arr3 = np.array([[[1, 2, 3], [4, 5, 6]], [[1, 2, 3], [4, 5, 6]]])\n",
    "print(arr3)  \n",
    "\n",
    "#checking dimensions\n",
    "print(arr3.ndim)"
   ]
  },
  {
   "cell_type": "code",
   "execution_count": 18,
   "metadata": {},
   "outputs": [
    {
     "name": "stdout",
     "output_type": "stream",
     "text": [
      "[[[[[[[[[[1 2 3 4]]]]]]]]]]\n",
      "number of dimensions : 10\n"
     ]
    }
   ],
   "source": [
    "# creating higher dimensional arrays\n",
    "arn = np.array([1, 2, 3, 4], ndmin=10)\n",
    "print(arn)\n",
    "print('number of dimensions :', arn.ndim)"
   ]
  },
  {
   "cell_type": "markdown",
   "metadata": {},
   "source": [
    "NUMPY DATA TYPE"
   ]
  },
  {
   "cell_type": "code",
   "execution_count": 5,
   "id": "293861ce",
   "metadata": {},
   "outputs": [
    {
     "name": "stdout",
     "output_type": "stream",
     "text": [
      "Data type :  int32\n"
     ]
    }
   ],
   "source": [
    "# checking string data type integer    \n",
    "var=[1,2,3,4]\n",
    "var=np.array(var)   \n",
    "print(\"Data type : \",var.dtype)  "
   ]
  },
  {
   "cell_type": "code",
   "execution_count": 9,
   "id": "3fdb17fe",
   "metadata": {},
   "outputs": [
    {
     "name": "stdout",
     "output_type": "stream",
     "text": [
      "Data Type :  float64\n"
     ]
    }
   ],
   "source": [
    "# checking string data type float    \n",
    "var = np.array([1.0,1.2,1.3])                                                                               \n",
    "print(\"Data Type : \",var.dtype)"
   ]
  },
  {
   "cell_type": "code",
   "execution_count": 7,
   "id": "ca523a1f",
   "metadata": {},
   "outputs": [
    {
     "name": "stdout",
     "output_type": "stream",
     "text": [
      "Data type :  <U6\n"
     ]
    }
   ],
   "source": [
    "\n",
    "# checking string data types\n",
    "var = np.array(['apple', 'banana', 'cherry'])\n",
    "print(\"Data type : \",var.dtype)    "
   ]
  },
  {
   "cell_type": "code",
   "execution_count": 10,
   "id": "b96d00af",
   "metadata": {},
   "outputs": [
    {
     "name": "stdout",
     "output_type": "stream",
     "text": [
      "Data type :  <U11\n"
     ]
    }
   ],
   "source": [
    "# checking string data types mix of string and integer  \n",
    "var = np.array(['apple', 'banana', 'cherry', 1, 2, 5])\n",
    "print(\"Data type : \",var.dtype)   "
   ]
  },
  {
   "cell_type": "markdown",
   "id": "b8e91caf",
   "metadata": {},
   "source": [
    "HOW TO CHANGE DATA TYPE ?"
   ]
  },
  {
   "cell_type": "code",
   "execution_count": 15,
   "id": "4652ce31",
   "metadata": {},
   "outputs": [
    {
     "name": "stdout",
     "output_type": "stream",
     "text": [
      "data type :  int8\n"
     ]
    }
   ],
   "source": [
    "X = np.array([1,2,3,4],dtype = np.int8 \n",
    "print(\"data type : \",X.dtype) \n"
   ]
  },
  {
   "cell_type": "code",
   "execution_count": 26,
   "id": "a43392a0",
   "metadata": {},
   "outputs": [
    {
     "name": "stdout",
     "output_type": "stream",
     "text": [
      "Data Type :  <U1\n",
      "['1' '2' '3' '4']\n"
     ]
    }
   ],
   "source": [
    "x = np.array([1,2,3,4],dtype = 'U''f''O''S') \n",
    "print(\"Data Type : \",x.dtype)   \n",
    "print(x)\n"
   ]
  },
  {
   "cell_type": "code",
   "execution_count": 27,
   "id": "7d63057e",
   "metadata": {},
   "outputs": [
    {
     "name": "stdout",
     "output_type": "stream",
     "text": [
      "Data Type :  object\n",
      "[1 2 3 4]\n"
     ]
    }
   ],
   "source": [
    "x = np.array([1,2,3,4],dtype = 'O') \n",
    "print(\"Data Type : \",x.dtype)   \n",
    "print(x)"
   ]
  },
  {
   "cell_type": "code",
   "execution_count": 28,
   "id": "61410695",
   "metadata": {},
   "outputs": [
    {
     "name": "stdout",
     "output_type": "stream",
     "text": [
      "[1 2 3 4]\n",
      "[1. 2. 3. 4.]\n"
     ]
    }
   ],
   "source": [
    "x3 = np.array([1,2,3,4])                                \n",
    "\n",
    "x4 = x3.astype(float)   \n",
    "\n",
    "print(x3)   \n",
    "print(x4)"
   ]
  },
  {
   "cell_type": "markdown",
   "id": "8a1b9587",
   "metadata": {},
   "source": [
    "SHAPE"
   ]
  },
  {
   "cell_type": "code",
   "execution_count": 29,
   "id": "572428ce",
   "metadata": {},
   "outputs": [
    {
     "name": "stdout",
     "output_type": "stream",
     "text": [
      "[[1 2]\n",
      " [2 4]]\n",
      "\n",
      "(2, 2)\n"
     ]
    }
   ],
   "source": [
    "var = np.array([[1,2],[2,4]])   \n",
    "\n",
    "print(var)  \n",
    "print() # to print blank space\n",
    "print(var.shape)"
   ]
  },
  {
   "cell_type": "code",
   "execution_count": 30,
   "id": "7f9d79b0",
   "metadata": {},
   "outputs": [
    {
     "name": "stdout",
     "output_type": "stream",
     "text": [
      "[[1 2 3 4]\n",
      " [1 2 3 4]]\n",
      "\n",
      "(2, 4)\n"
     ]
    }
   ],
   "source": [
    "var = np.array([[1,2,3,4],[1,2,3,4]])   \n",
    "print(var)  \n",
    "print() # to print blank space\n",
    "print(var.shape)"
   ]
  },
  {
   "cell_type": "markdown",
   "id": "ed75b02d",
   "metadata": {},
   "source": [
    "RESHAPE"
   ]
  },
  {
   "cell_type": "code",
   "execution_count": 51,
   "id": "d1e1d03d",
   "metadata": {},
   "outputs": [
    {
     "name": "stdout",
     "output_type": "stream",
     "text": [
      "[1 2 3 4 5 6]\n",
      "\n",
      "dimension :  1\n",
      "shape :  (6,)\n",
      "[[1 2]\n",
      " [3 4]\n",
      " [5 6]]\n",
      "shape :  (3, 2)\n",
      "dimension :  2\n"
     ]
    }
   ],
   "source": [
    "var2 = np.array([1,2,3,4,5,6])   \n",
    "print(var2)  \n",
    "print() # to print blank space  \n",
    "print(\"dimension : \",var2.ndim)\n",
    "print(\"shape : \",var2.shape)    \n",
    "\n",
    "\n",
    "x = var2.reshape(3,2)   \n",
    "print(x)                                                \n",
    "print(\"shape : \",x.shape)   \n",
    "print(\"dimension : \",x.ndim)\n"
   ]
  },
  {
   "cell_type": "markdown",
   "id": "8d5054f9",
   "metadata": {},
   "source": [
    "PRCATICE QUESTION SHAPE ,RESHAPE"
   ]
  },
  {
   "cell_type": "code",
   "execution_count": 53,
   "id": "5035aff1",
   "metadata": {},
   "outputs": [
    {
     "name": "stdout",
     "output_type": "stream",
     "text": [
      "[[[1 2 3 4]]]\n",
      "\n",
      "dimension :  3\n",
      "shape :  (1, 1, 4)\n",
      "\n",
      "[[1 2]\n",
      " [3 4]]\n"
     ]
    }
   ],
   "source": [
    "#create an multri dimentional array and find shape      \n",
    "var1 = np.array([1,2,3,4], ndmin=3)#4)   \n",
    "print(var1)  \n",
    "print() # to print blank space      \n",
    "\n",
    "print(\"dimension : \",var1.ndim) \n",
    "\n",
    "print(\"shape : \",var1.shape)        \n",
    "\n",
    "print() # to print blank space          \n",
    "\n",
    "#reshape\n",
    "print(var1.reshape(2,2))"
   ]
  },
  {
   "cell_type": "code",
   "execution_count": 52,
   "id": "36c24da9",
   "metadata": {},
   "outputs": [
    {
     "name": "stdout",
     "output_type": "stream",
     "text": [
      "[ 1  2  3  4  5  6  7  8  9 10 11 12]\n",
      "dimension :  1\n",
      "shape :  (12,)\n",
      "\n",
      "[[[ 1  2]\n",
      "  [ 3  4]\n",
      "  [ 5  6]]\n",
      "\n",
      " [[ 7  8]\n",
      "  [ 9 10]\n",
      "  [11 12]]]\n",
      "dimesnion :  3\n",
      "shape :  (2, 3, 2)\n"
     ]
    }
   ],
   "source": [
    "var2 = np.array([1,2,3,4,5,6,7,8,9,10,11,12])   \n",
    "print(var2)  \n",
    "print(\"dimension : \",var2.ndim)\n",
    "print(\"shape : \",var2.shape)    \n",
    "print() # to print blank space   \n",
    "\n",
    "\n",
    "x = var2.reshape(2,3,2)   \n",
    "print(x)        \n",
    "print(\"dimesnion : \",x.ndim)                                               \n",
    "print(\"shape : \",x.shape)"
   ]
  },
  {
   "cell_type": "markdown",
   "id": "91e32141",
   "metadata": {},
   "source": [
    "EXERCISE FOR PRACTICE\n",
    "\n",
    "\n",
    "\n",
    "...................................................................................................................................................................................................................................................."
   ]
  },
  {
   "cell_type": "code",
   "execution_count": 29,
   "id": "48c635d9",
   "metadata": {},
   "outputs": [
    {
     "data": {
      "text/plain": [
       "array([1, 2, 3, 4, 5])"
      ]
     },
     "execution_count": 29,
     "metadata": {},
     "output_type": "execute_result"
    }
   ],
   "source": [
    "# exercise fill the blank to create array\n",
    "arr = np. array([1, 2, 3, 4, 5])\n",
    "arr"
   ]
  },
  {
   "cell_type": "code",
   "execution_count": 31,
   "id": "ed40d109",
   "metadata": {},
   "outputs": [
    {
     "data": {
      "text/plain": [
       "array([[1, 2, 3, 4]])"
      ]
     },
     "execution_count": 31,
     "metadata": {},
     "output_type": "execute_result"
    }
   ],
   "source": [
    "# fill with correct argument to create 2d array\n",
    "arr = np.array([1, 2, 3, 4], ndmin=2)\n",
    "arr"
   ]
  },
  {
   "cell_type": "code",
   "execution_count": 32,
   "id": "261f8ce9",
   "metadata": {},
   "outputs": [
    {
     "name": "stdout",
     "output_type": "stream",
     "text": [
      "1\n"
     ]
    }
   ],
   "source": [
    "# check the number of dimensions\n",
    "arr = np.array([1, 2, 3, 4])\n",
    "print(arr.ndim)"
   ]
  },
  {
   "cell_type": "code",
   "execution_count": null,
   "id": "f07d226e",
   "metadata": {},
   "outputs": [],
   "source": [
    "# exercise fill the blank to create array\n",
    "arr = np.     ([1, 2, 3, 4, 5])\n",
    "# fill with correct argument to create 2d array\n",
    "arr = np.array([1, 2, 3, 4],    =2)\n",
    "# check the number of dimensions\n",
    "arr = np.array([1, 2, 3, 4])\n",
    "print(arr.   )"
   ]
  },
  {
   "cell_type": "markdown",
   "metadata": {},
   "source": [
    "SPECIAL TYPE OF ARRAYS"
   ]
  },
  {
   "cell_type": "code",
   "execution_count": 34,
   "id": "7ece9a1c",
   "metadata": {},
   "outputs": [
    {
     "data": {
      "text/plain": [
       "array([[0, 0, 0],\n",
       "       [0, 0, 0]])"
      ]
     },
     "execution_count": 34,
     "metadata": {},
     "output_type": "execute_result"
    }
   ],
   "source": [
    "#creating array of zeros\n",
    "a=np.zeros((2,3),dtype='int')\n",
    "a"
   ]
  },
  {
   "cell_type": "code",
   "execution_count": 35,
   "id": "00cfa6b2",
   "metadata": {},
   "outputs": [
    {
     "data": {
      "text/plain": [
       "array([[1., 1.],\n",
       "       [1., 1.],\n",
       "       [1., 1.]])"
      ]
     },
     "execution_count": 35,
     "metadata": {},
     "output_type": "execute_result"
    }
   ],
   "source": [
    "#creating array of 1's\n",
    "b=np.ones((3,2))\n",
    "b"
   ]
  },
  {
   "cell_type": "code",
   "execution_count": 38,
   "id": "99e938c9",
   "metadata": {},
   "outputs": [
    {
     "data": {
      "text/plain": [
       "array([['abc', 'abc', 'abc'],\n",
       "       ['abc', 'abc', 'abc']], dtype='<U3')"
      ]
     },
     "execution_count": 38,
     "metadata": {},
     "output_type": "execute_result"
    }
   ],
   "source": [
    "#creating array with a single value\n",
    "c=np.full((2,3),'abc')\n",
    "c"
   ]
  },
  {
   "cell_type": "markdown",
   "metadata": {},
   "source": [
    "RANDOM"
   ]
  },
  {
   "cell_type": "code",
   "execution_count": 59,
   "id": "e376ac45",
   "metadata": {},
   "outputs": [
    {
     "name": "stdout",
     "output_type": "stream",
     "text": [
      "0.6939903808548621\n",
      "[-0.98832171 -0.35414972 -1.20538746 -1.34954004]\n",
      "[0.53832412 0.51720651 0.62517021 0.09351525]\n"
     ]
    }
   ],
   "source": [
    "#generates ONE FLOAT VALUE ; THE RESULT WILL BE BW 0 TO 1\n",
    "x = np.random.rand()\n",
    "print(x)    \n",
    "\n",
    "#generates 4 NUMBERS OF FLOAT VALUE ; THE RESULT WILL BE BW 0 TO 1  \n",
    "y = np.random.rand(4)                                                                           \n",
    "\n",
    "#generates random number that are positive and nehative both.\n",
    "z=np.random.randn(4)\n",
    "print(z)    \n",
    "\n",
    "#ranf : close to 0 and less than 1\n",
    "u=np.random.ranf(4)\n",
    "print(u)   "
   ]
  },
  {
   "cell_type": "code",
   "execution_count": 65,
   "id": "70b01b91",
   "metadata": {},
   "outputs": [
    {
     "name": "stdout",
     "output_type": "stream",
     "text": [
      "[6 2 1 7 5]\n"
     ]
    }
   ],
   "source": [
    "#creating using random integer values in given range EG. BQ 1 TO 10. 2D ARRAY WHICH HAS 2 ROWS AND 4 COLUMNS  \n",
    "#d1=np.random.randint(min,max,total_values/array shape)  \n",
    "d1=np.random.randint(1,10,5)\n",
    "d2=np.random.randint(1,10,(2,4))\n",
    "print(d1)"
   ]
  },
  {
   "cell_type": "markdown",
   "id": "7fa86540",
   "metadata": {},
   "source": [
    "INDEXING NUMPY ARRAYS"
   ]
  },
  {
   "cell_type": "code",
   "execution_count": 70,
   "id": "148fe0fa",
   "metadata": {},
   "outputs": [
    {
     "name": "stdout",
     "output_type": "stream",
     "text": [
      "1\n"
     ]
    }
   ],
   "source": [
    "# access first element\n",
    "arr = np.array([1, 2, 3, 4])\n",
    "print(arr[0])   \n",
    "\n",
    "# to access second element\n",
    "print(arr[1])   \n",
    "\n",
    "# get 3rd and 4 th and add them\n",
    "print(arr[2] + arr[-1])"
   ]
  },
  {
   "cell_type": "code",
   "execution_count": 73,
   "id": "e46546f2",
   "metadata": {},
   "outputs": [
    {
     "name": "stdout",
     "output_type": "stream",
     "text": [
      "[[ 1  2  3  4  5]\n",
      " [ 6  7  8  9 10]]\n",
      "2\n",
      "\n",
      "8\n"
     ]
    }
   ],
   "source": [
    "#to aget number 8        \n",
    "arr1 = np.array([[1,2,3,4,5], [6,7,8,9,10]])\n",
    "print(arr1) \n",
    "print(arr1.ndim)    \n",
    "print() \n",
    "\n",
    "print(arr1[1,2])    \n",
    "\n",
    "# to access 2?\n",
    "\n",
    "print('2nd element on 1st row: ', arr[0, 1])    \n",
    "\n",
    "#access element on the 2nd row and 5th column\n",
    "print('5th element on 2nd row: ', arr[1, 4])\n"
   ]
  },
  {
   "cell_type": "code",
   "execution_count": 79,
   "id": "7f4f1fa2",
   "metadata": {},
   "outputs": [
    {
     "data": {
      "text/plain": [
       "array([[[ 1,  2,  3],\n",
       "        [ 4,  5,  6]],\n",
       "\n",
       "       [[ 7,  8,  9],\n",
       "        [10, 11, 12]]])"
      ]
     },
     "execution_count": 79,
     "metadata": {},
     "output_type": "execute_result"
    }
   ],
   "source": [
    "    \n",
    "# accessing 3-d (dimensions and index )\n",
    "arr = np.array([[[1, 2, 3], [4, 5, 6]], [[7, 8, 9], [10, 11, 12]]])\n",
    "arr"
   ]
  },
  {
   "cell_type": "code",
   "execution_count": 89,
   "id": "5cec62c5",
   "metadata": {},
   "outputs": [
    {
     "name": "stdout",
     "output_type": "stream",
     "text": [
      "8\n"
     ]
    }
   ],
   "source": [
    "# accessing 3-d (dimensions and index )\n",
    "arr = np.array([[[1, 2, 3], [4, 5, 6]], [[7, 8, 9], [10, 11, 12]]])\n",
    "# access 3rd of second array of the first array \"6\"\n",
    "#print(arr[0, 1, 2]) \n",
    "\n",
    "print(arr[1,0,1])\n",
    "\n",
    "# print 11 using negative indexing\n",
    "arr = np.array([[[1, 2, 3], [4, 5, 6]], [[7, 8, 9], [10, 11, 12]]])\n",
    "#print(arr[-1,-1,-2] )"
   ]
  },
  {
   "cell_type": "markdown",
   "id": "4b50956f",
   "metadata": {},
   "source": [
    "SLICING"
   ]
  },
  {
   "cell_type": "code",
   "execution_count": null,
   "id": "e14eade9",
   "metadata": {},
   "outputs": [],
   "source": [
    "#array slicing\n",
    "# slicing 1-d array [start:end] [start:end:step]\n",
    "# slicing from index 1 to 5\n",
    "arr = np.array([1, 2, 3, 4, 5, 6, 7])\n",
    "\n",
    "print(arr[1:5])\n",
    "#slices from index 4 to the end\n",
    "print(arr[4:])\n",
    "# beginning to index 4\n",
    "print(arr[:4])\n",
    "# slicing from index 3 to index 1 from the end\n",
    "print(arr[-3:-1])\n",
    "# every other element from index 1 to index 5\n",
    "print(arr[1:5:2])\n",
    "# every other element from entire array\n",
    "print(arr[::2])"
   ]
  },
  {
   "cell_type": "code",
   "execution_count": 93,
   "id": "0ec0f049",
   "metadata": {},
   "outputs": [
    {
     "name": "stdout",
     "output_type": "stream",
     "text": [
      "[7 8 9]\n",
      "[3 8]\n",
      "[[2 3 4]\n",
      " [7 8 9]]\n"
     ]
    }
   ],
   "source": [
    "# slicing 2-D array\n",
    "arr = np.array([[1, 2, 3, 4, 5], [6, 7, 8, 9, 10]]) \n",
    "#arr\n",
    "# From the second list, slice from index 1 to index 4 \n",
    "print(arr[1, 1:4])\n",
    "# from both return index 2\n",
    "print(arr[0:2, 2])\n",
    "# from both list slice 1 - 4(returns a 2 d array)\n",
    "print(arr[0:2, 1:4])"
   ]
  },
  {
   "cell_type": "code",
   "execution_count": 91,
   "id": "c14efa72",
   "metadata": {},
   "outputs": [
    {
     "name": "stdout",
     "output_type": "stream",
     "text": [
      "[7 8 9]\n"
     ]
    }
   ],
   "source": [
    "# From the second list/array, slice from index 1 to index 4 \n",
    "print(arr[1, 1:4])"
   ]
  },
  {
   "cell_type": "code",
   "execution_count": 92,
   "id": "b8c44bd8",
   "metadata": {},
   "outputs": [
    {
     "name": "stdout",
     "output_type": "stream",
     "text": [
      "[3 8]\n"
     ]
    }
   ],
   "source": [
    "# from both return index 2\n",
    "print(arr[0:2, 2])"
   ]
  },
  {
   "cell_type": "markdown",
   "id": "97855b91",
   "metadata": {},
   "source": [
    "ITERATE"
   ]
  },
  {
   "cell_type": "code",
   "execution_count": 97,
   "id": "2916abe4",
   "metadata": {},
   "outputs": [
    {
     "name": "stdout",
     "output_type": "stream",
     "text": [
      "1\n",
      "2\n",
      "3\n"
     ]
    }
   ],
   "source": [
    "# iterating(1-d)\n",
    "arr = np.array([1, 2, 3])\n",
    "\n",
    "for x in arr:\n",
    "    print(x)"
   ]
  },
  {
   "cell_type": "code",
   "execution_count": 98,
   "id": "9ed3f1c7",
   "metadata": {},
   "outputs": [
    {
     "name": "stdout",
     "output_type": "stream",
     "text": [
      "[1 2 3]\n",
      "[4 5 6]\n"
     ]
    }
   ],
   "source": [
    "# iterating 2-D\n",
    "arr = np.array([[1, 2, 3], [4, 5, 6]])\n",
    "\n",
    "for x in arr:\n",
    "    print(x)"
   ]
  },
  {
   "cell_type": "code",
   "execution_count": 99,
   "id": "2b93d80a",
   "metadata": {},
   "outputs": [
    {
     "name": "stdout",
     "output_type": "stream",
     "text": [
      "1\n",
      "2\n",
      "3\n",
      "4\n",
      "5\n",
      "6\n"
     ]
    }
   ],
   "source": [
    "arr = np.array([[1, 2, 3], [4, 5, 6]])\n",
    "\n",
    "for x in arr:\n",
    "    for y in x:\n",
    "        print(y)"
   ]
  },
  {
   "cell_type": "code",
   "execution_count": 100,
   "id": "6dfbf211",
   "metadata": {},
   "outputs": [
    {
     "name": "stdout",
     "output_type": "stream",
     "text": [
      "[[1 2 3]\n",
      " [4 5 6]]\n",
      "[[ 7  8  9]\n",
      " [10 11 12]]\n"
     ]
    }
   ],
   "source": [
    "#iterating 3-d arrays\n",
    "arr = np.array([[[1, 2, 3], [4, 5, 6]], [[7, 8, 9], [10, 11, 12]]])\n",
    "\n",
    "for x in arr:\n",
    "    print(x)"
   ]
  },
  {
   "cell_type": "code",
   "execution_count": 101,
   "id": "4b36c330",
   "metadata": {},
   "outputs": [
    {
     "name": "stdout",
     "output_type": "stream",
     "text": [
      "1\n",
      "2\n",
      "3\n",
      "4\n",
      "5\n",
      "6\n",
      "7\n",
      "8\n",
      "9\n",
      "10\n",
      "11\n",
      "12\n"
     ]
    }
   ],
   "source": [
    "arr = np.array([[[1, 2, 3], [4, 5, 6]], [[7, 8, 9], [10, 11, 12]]])\n",
    "\n",
    "for x in arr:\n",
    "    for y in x:\n",
    "        for z in y:\n",
    "            print(z)"
   ]
  },
  {
   "cell_type": "markdown",
   "id": "f7e1f755",
   "metadata": {},
   "source": [
    "jOINING"
   ]
  },
  {
   "cell_type": "code",
   "execution_count": 103,
   "id": "3b7b76d5",
   "metadata": {},
   "outputs": [
    {
     "name": "stdout",
     "output_type": "stream",
     "text": [
      "[1 2 3 4 5 6]\n"
     ]
    }
   ],
   "source": [
    "# joining arrays\n",
    "arr1 = np.array([1, 2, 3])\n",
    "\n",
    "arr2 = np.array([4, 5, 6])\n",
    "\n",
    "arr = np.concatenate((arr1, arr2))\n",
    "\n",
    "print(arr)"
   ]
  },
  {
   "cell_type": "code",
   "execution_count": 105,
   "id": "3e6d7013",
   "metadata": {},
   "outputs": [
    {
     "name": "stdout",
     "output_type": "stream",
     "text": [
      "[[1 2]\n",
      " [3 4]\n",
      " [5 6]\n",
      " [7 8]]\n"
     ]
    }
   ],
   "source": [
    "# joining rows\n",
    "arr1 = np.array([[1, 2], [3, 4]])\n",
    "\n",
    "arr2 = np.array([[5, 6], [7, 8]])\n",
    "\n",
    "arr = np.concatenate((arr1, arr2), axis=0)\n",
    "\n",
    "print(arr)"
   ]
  },
  {
   "cell_type": "markdown",
   "id": "4c19d0a4",
   "metadata": {},
   "source": [
    "STACKING"
   ]
  },
  {
   "cell_type": "code",
   "execution_count": null,
   "id": "20f052e3",
   "metadata": {},
   "outputs": [],
   "source": [
    "#stacking\n",
    "arr1 = np.array([1, 2, 3])\n",
    "\n",
    "arr2 = np.array([4, 5, 6])\n",
    "\n",
    "arr = np.stack((arr1, arr2), axis=1)\n",
    "\n",
    "print(arr)"
   ]
  },
  {
   "cell_type": "code",
   "execution_count": 109,
   "id": "d48f8da3",
   "metadata": {},
   "outputs": [
    {
     "data": {
      "text/plain": [
       "array([1, 2, 3, 4, 5, 6])"
      ]
     },
     "execution_count": 109,
     "metadata": {},
     "output_type": "execute_result"
    }
   ],
   "source": [
    "#Horizontal Stacking, stacks one beside other\n",
    "arr = np.hstack((arr1, arr2))\n",
    "arr"
   ]
  },
  {
   "cell_type": "code",
   "execution_count": 110,
   "id": "648f2d45",
   "metadata": {},
   "outputs": [
    {
     "data": {
      "text/plain": [
       "array([[1, 2, 3],\n",
       "       [4, 5, 6]])"
      ]
     },
     "execution_count": 110,
     "metadata": {},
     "output_type": "execute_result"
    }
   ],
   "source": [
    "#Vertical Stacking stacks one above other\n",
    "arr = np.vstack((arr1, arr2))\n",
    "arr"
   ]
  },
  {
   "cell_type": "code",
   "execution_count": 111,
   "id": "69aeabe6",
   "metadata": {},
   "outputs": [
    {
     "data": {
      "text/plain": [
       "array([[[1, 4],\n",
       "        [2, 5],\n",
       "        [3, 6]]])"
      ]
     },
     "execution_count": 111,
     "metadata": {},
     "output_type": "execute_result"
    }
   ],
   "source": [
    "#stacking along depth\n",
    "arr = np.dstack((arr1, arr2))\n",
    "arr"
   ]
  },
  {
   "cell_type": "markdown",
   "id": "098d2533",
   "metadata": {},
   "source": [
    "SPLIT"
   ]
  },
  {
   "cell_type": "code",
   "execution_count": 113,
   "id": "10646e35",
   "metadata": {},
   "outputs": [
    {
     "name": "stdout",
     "output_type": "stream",
     "text": [
      "[array([1, 2]), array([3, 4]), array([5, 6])]\n"
     ]
    }
   ],
   "source": [
    "# split arrays\n",
    "\n",
    "arr = np.array([1, 2, 3, 4, 5, 6])\n",
    "# splits in 3 parts\n",
    "newarr = np.array_split(arr, 3)\n",
    "\n",
    "print(newarr)"
   ]
  },
  {
   "cell_type": "code",
   "execution_count": 91,
   "id": "1460bc9a",
   "metadata": {},
   "outputs": [
    {
     "name": "stdout",
     "output_type": "stream",
     "text": [
      "[[ 1  2  3  4  5  6]\n",
      " [ 7  8  9 10 11 12]]\n",
      "Splitting along horizontal axis into 2 parts:\n",
      " [array([[1, 2, 3],\n",
      "       [7, 8, 9]]), array([[ 4,  5,  6],\n",
      "       [10, 11, 12]])]\n",
      "Splitting along Vertical axis into 2 parts:\n",
      " [array([[1, 2, 3, 4, 5, 6]]), array([[ 7,  8,  9, 10, 11, 12]])]\n"
     ]
    }
   ],
   "source": [
    "# Splitting 2-dimensional\n",
    "a=np.array([[1,2,3,4,5,6],[7,8,9,10,11,12]])\n",
    "print(a)    \n",
    "\n",
    "\n",
    "# horizontal splitting\n",
    "print(\"Splitting along horizontal axis into 2 parts:\\n\", np.hsplit(a, 2))   \n",
    "\n",
    "\n",
    "\n",
    "#Vertical Split\n",
    "print(\"Splitting along Vertical axis into 2 parts:\\n\", np.vsplit(a, 2))"
   ]
  },
  {
   "cell_type": "markdown",
   "id": "9b2d0e6e",
   "metadata": {},
   "source": [
    "SEARCH"
   ]
  },
  {
   "cell_type": "code",
   "execution_count": 118,
   "id": "b598c330",
   "metadata": {},
   "outputs": [
    {
     "name": "stdout",
     "output_type": "stream",
     "text": [
      "(array([3, 5, 6], dtype=int64),)\n"
     ]
    }
   ],
   "source": [
    "# search\n",
    "arr = np.array([1, 2, 3, 4, 5, 4, 4])\n",
    "\n",
    "x = np.where(arr == 4)\n",
    "\n",
    "print(x)"
   ]
  },
  {
   "cell_type": "code",
   "execution_count": 119,
   "id": "6c66ab45",
   "metadata": {},
   "outputs": [
    {
     "data": {
      "text/plain": [
       "(array([1, 3, 5, 6], dtype=int64),)"
      ]
     },
     "execution_count": 119,
     "metadata": {},
     "output_type": "execute_result"
    }
   ],
   "source": [
    "# search even number\n",
    "x = np.where(arr%2 == 0)\n",
    "x"
   ]
  },
  {
   "cell_type": "code",
   "execution_count": 120,
   "id": "98e588c6",
   "metadata": {},
   "outputs": [
    {
     "data": {
      "text/plain": [
       "(array([0, 2, 4], dtype=int64),)"
      ]
     },
     "execution_count": 120,
     "metadata": {},
     "output_type": "execute_result"
    }
   ],
   "source": [
    "# search odd number\n",
    "x = np.where(arr%2 == 1)\n",
    "x"
   ]
  },
  {
   "cell_type": "markdown",
   "id": "75bac4e8",
   "metadata": {},
   "source": [
    "SORT"
   ]
  },
  {
   "cell_type": "code",
   "execution_count": 121,
   "id": "a2ff6fe1",
   "metadata": {},
   "outputs": [
    {
     "name": "stdout",
     "output_type": "stream",
     "text": [
      "[0 1 2 3]\n"
     ]
    }
   ],
   "source": [
    "# sort\n",
    "arr = np.array([3, 2, 0, 1])\n",
    "\n",
    "print(np.sort(arr))"
   ]
  },
  {
   "cell_type": "code",
   "execution_count": 122,
   "id": "84430d26",
   "metadata": {},
   "outputs": [
    {
     "name": "stdout",
     "output_type": "stream",
     "text": [
      "['apple' 'banana' 'cherry']\n"
     ]
    }
   ],
   "source": [
    "# sorts alphabetically\n",
    "arr = np.array(['banana', 'cherry', 'apple'])\n",
    "\n",
    "print(np.sort(arr))"
   ]
  },
  {
   "cell_type": "markdown",
   "id": "127d497f",
   "metadata": {},
   "source": [
    "SELF PRACTICE EXERCISE"
   ]
  },
  {
   "cell_type": "code",
   "execution_count": null,
   "id": "83b68eb8",
   "metadata": {},
   "outputs": [],
   "source": [
    "# exercise 2\n",
    "#print first item in the array\n",
    "arr = np.array([1, 2, 3, 4, 5])\n",
    "print(arr  )\n",
    "# print 50\n",
    "arr = np.array([10, 20, 30, 40, 50])\n",
    "print(arr   )\n",
    "# print 50\n",
    "arr = np.array([[10, 20, 30, 40], [50, 60, 70, 80]])\n",
    "print(arr  )\n",
    "# print 11\n",
    "arr = np.array([[[1, 2, 3], [4, 5, 6]], [[7, 8, 9], [10, 11, 12]]])\n",
    "print(arr )\n",
    "#arr[1,0,1]"
   ]
  },
  {
   "cell_type": "code",
   "execution_count": null,
   "id": "face4245",
   "metadata": {},
   "outputs": [],
   "source": [
    "arr = np.array([1, 2, 3, 4, 5, 6])\n",
    "# splits in 3 parts\n",
    "newarr = np.array_split(arr, 4)\n",
    "\n",
    "print(newarr)"
   ]
  },
  {
   "cell_type": "code",
   "execution_count": null,
   "id": "43fc612c",
   "metadata": {},
   "outputs": [],
   "source": [
    "#exercise 4\n",
    "# Use a correct NumPy method to join two arrays into a single array.\n",
    "arr1 = np.array([1, 2, 3])\n",
    "\n",
    "arr2 = np.array([4, 5, 6])\n",
    "\n",
    "arr = np.concatenate((arr1, arr2))\n",
    "arr"
   ]
  },
  {
   "cell_type": "code",
   "execution_count": null,
   "id": "dfd94889",
   "metadata": {},
   "outputs": [],
   "source": [
    "#exercise 3\n",
    "#1.Everything from (including) the second item to \n",
    "#(not including) the fifth item.\n",
    "arr = np.array([10, 15, 20, 25, 30, 35, 40])\n",
    "print(arr   )\n",
    "# 2.Everything from (including) the third item to \n",
    "#(not including) the fifth item\n",
    "\n",
    "#3.Every other item from (including) the second item to \n",
    "#(not including) the fifth item.\n",
    "#4.Every other item from the entire array."
   ]
  },
  {
   "cell_type": "code",
   "execution_count": null,
   "id": "bb4534ed",
   "metadata": {},
   "outputs": [],
   "source": [
    "# iterating using nditer\n",
    "arr = np.array([[[1, 2], [3, 4]], [[5, 6], [7, 8]]])\n",
    "\n",
    "for x in np.nditer(arr):\n",
    "    print(x)"
   ]
  }
 ],
 "metadata": {
  "kernelspec": {
   "display_name": "Python 3 (ipykernel)",
   "language": "python",
   "name": "python3"
  },
  "language_info": {
   "codemirror_mode": {
    "name": "ipython",
    "version": 3
   },
   "file_extension": ".py",
   "mimetype": "text/x-python",
   "name": "python",
   "nbconvert_exporter": "python",
   "pygments_lexer": "ipython3",
   "version": "3.11.5"
  }
 },
 "nbformat": 4,
 "nbformat_minor": 5
}
